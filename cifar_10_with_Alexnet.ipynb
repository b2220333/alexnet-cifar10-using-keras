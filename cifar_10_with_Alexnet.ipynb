{
  "nbformat": 4,
  "nbformat_minor": 0,
  "metadata": {
    "colab": {
      "name": "cifar-10-with-Alexnet.ipynb",
      "provenance": [],
      "collapsed_sections": [],
      "machine_shape": "hm",
      "include_colab_link": true
    },
    "kernelspec": {
      "name": "python3",
      "display_name": "Python 3"
    },
    "accelerator": "GPU"
  },
  "cells": [
    {
      "cell_type": "markdown",
      "metadata": {
        "id": "view-in-github",
        "colab_type": "text"
      },
      "source": [
        "<a href=\"https://colab.research.google.com/github/pravinkr/alexnet-cifar10-using-keras/blob/master/cifar_10_with_Alexnet.ipynb\" target=\"_parent\"><img src=\"https://colab.research.google.com/assets/colab-badge.svg\" alt=\"Open In Colab\"/></a>"
      ]
    },
    {
      "cell_type": "code",
      "metadata": {
        "id": "0uoD7EUdjgXP",
        "colab_type": "code",
        "outputId": "585d5484-d21c-4226-dad9-e1918d512ab4",
        "colab": {
          "base_uri": "https://localhost:8080/",
          "height": 80
        }
      },
      "source": [
        "#Simple CNN model for CIFAR-10 dataset\n",
        "import numpy as np\n",
        "\n",
        "# Simple CNN model for CIFAR-10\n",
        "import numpy as np\n",
        "import os\n",
        "from keras.datasets import cifar10, cifar100\n",
        "from keras.models import Sequential\n",
        "from keras.layers import Dense, Conv2D\n",
        "from keras.layers import Dropout\n",
        "from keras.layers import Flatten\n",
        "from keras.constraints import maxnorm\n",
        "from keras.optimizers import SGD, Adam\n",
        "from keras.layers.convolutional import Convolution2D\n",
        "from keras.layers.convolutional import MaxPooling2D\n",
        "from keras.callbacks import ModelCheckpoint, LearningRateScheduler\n",
        "from keras.callbacks import ReduceLROnPlateau\n",
        "from keras.callbacks import EarlyStopping\n",
        "from keras.regularizers import l2\n",
        "from keras import backend as K\n",
        "\n",
        "from keras.utils import np_utils\n",
        "import matplotlib.pyplot as plt\n",
        "from keras.preprocessing.image import ImageDataGenerator\n",
        "%matplotlib inline\n",
        "\n",
        "import skimage\n",
        "from skimage.util import img_as_ubyte\n"
      ],
      "execution_count": 1,
      "outputs": [
        {
          "output_type": "stream",
          "text": [
            "Using TensorFlow backend.\n"
          ],
          "name": "stderr"
        },
        {
          "output_type": "display_data",
          "data": {
            "text/html": [
              "<p style=\"color: red;\">\n",
              "The default version of TensorFlow in Colab will soon switch to TensorFlow 2.x.<br>\n",
              "We recommend you <a href=\"https://www.tensorflow.org/guide/migrate\" target=\"_blank\">upgrade</a> now \n",
              "or ensure your notebook will continue to use TensorFlow 1.x via the <code>%tensorflow_version 1.x</code> magic:\n",
              "<a href=\"https://colab.research.google.com/notebooks/tensorflow_version.ipynb\" target=\"_blank\">more info</a>.</p>\n"
            ],
            "text/plain": [
              "<IPython.core.display.HTML object>"
            ]
          },
          "metadata": {
            "tags": []
          }
        }
      ]
    },
    {
      "cell_type": "code",
      "metadata": {
        "id": "k34XYTn_gbVF",
        "colab_type": "code",
        "colab": {
          "base_uri": "https://localhost:8080/",
          "height": 51
        },
        "outputId": "f7eb15db-1aa0-43b3-b44e-e7d194041c59"
      },
      "source": [
        "#Defining Variables\n",
        "\n",
        "#Data set information\n",
        "DATASET = 'cifar-10'\n",
        "#DATASET = 'cifar-100'\n",
        "input_shape=(32,32,3)\n",
        "\n",
        "if DATASET == 'cifar-10':\n",
        "  num_classes = 10\n",
        "elif DATASET == 'cifar-100':\n",
        "  num_classes = 100\n",
        "\n",
        "#Model Parameters\n",
        "\n",
        "model_type = 'Alexnet'\n",
        "#model_type = 'Resnet'\n",
        "\n",
        "epochs = 25\n",
        "lrate = 0.01\n",
        "decay = lrate/epochs\n",
        "batch_size = 32\n",
        "\n",
        "data_augmentation = True\n",
        "flow_from_dir = False\n",
        "\n",
        "subtract_mean = True\n",
        "seed = 7\n",
        "np.random.seed(seed)\n",
        "\n",
        "validate_dir = os.path.join(\"data\",\"test\")\n",
        "train_dir = os.path.join(\"data\",\"train\")\n",
        "\n",
        "# Prepare model model saving directory.\n",
        "save_dir = os.path.join(os.getcwd(), 'saved_models')\n",
        "\n",
        "#model_name = 'cifar10_%s_model.{epoch:03d}.h5' % model_type\n",
        "model_name = DATASET+'_'+'%s_model.{epoch:03d}.h5' % model_type\n",
        "\n",
        "if not os.path.isdir(save_dir):\n",
        "    os.makedirs(save_dir)\n",
        "filepath = os.path.join(save_dir, model_name)\n",
        "print(\"Model Type: \",model_type)\n",
        "print(\"Model File: \",filepath)"
      ],
      "execution_count": 22,
      "outputs": [
        {
          "output_type": "stream",
          "text": [
            "Model Type:  Alexnet\n",
            "Model File:  /content/saved_models/cifar-10_Alexnet_model.{epoch:03d}.h5\n"
          ],
          "name": "stdout"
        }
      ]
    },
    {
      "cell_type": "code",
      "metadata": {
        "id": "BUmkHwlR4Bex",
        "colab_type": "code",
        "colab": {}
      },
      "source": [
        "if flow_from_dir:\n",
        "  if DATASET == 'cifar-10':\n",
        "    %pip install cifar2png\n",
        "    %cifar2png cifar10 \"data\""
      ],
      "execution_count": 0,
      "outputs": []
    },
    {
      "cell_type": "code",
      "metadata": {
        "id": "pJ39ZC-BXg37",
        "colab_type": "code",
        "outputId": "d163ee06-7f91-4c49-af8c-73f782d995ba",
        "colab": {
          "base_uri": "https://localhost:8080/",
          "height": 268
        }
      },
      "source": [
        "if not flow_from_dir:\n",
        "  #load data\n",
        "  if DATASET == 'cifar-10':\n",
        "    (X_train, y_train),(X_test,y_test) = cifar10.load_data()\n",
        "    X_train.shape, X_test.shape, X_train.shape[1:],X_train.dtype\n",
        "  elif DATASET == 'cifar-100':\n",
        "    (X_train, y_train),(X_test,y_test) = cifar100.load_data()\n",
        "    X_train.shape, X_test.shape, X_train.shape[1:],X_train.dtype\n",
        "\n",
        "  #Plot data\n",
        "  for i in range(0,9):\n",
        "    plt.subplot(330+1+i)\n",
        "    plt.imshow(X_train[i])\n",
        "  plt.show() \n",
        "  \n"
      ],
      "execution_count": 6,
      "outputs": [
        {
          "output_type": "display_data",
          "data": {
            "image/png": "[encoded data removed]",
            "text/plain": [
              "<Figure size 432x288 with 9 Axes>"
            ]
          },
          "metadata": {
            "tags": []
          }
        }
      ]
    },
    {
      "cell_type": "code",
      "metadata": {
        "id": "R_4A1KRAhfbe",
        "colab_type": "code",
        "colab": {}
      },
      "source": [
        "def convert_to_imagenet_size(images):\n",
        "  tmp_images = []\n",
        "  for image in images:\n",
        "    image = skimage.transform.resize(image,(224,224),mode='constant')\n",
        "    image = img_as_ubyte(image)\n",
        "    tmp_images.append(image)\n",
        "  return np.array(tmp_images)"
      ],
      "execution_count": 0,
      "outputs": []
    },
    {
      "cell_type": "code",
      "metadata": {
        "id": "QVJcPP50W2ri",
        "colab_type": "code",
        "colab": {
          "base_uri": "https://localhost:8080/",
          "height": 34
        },
        "outputId": "e1b49a99-0375-4c75-8104-189aed693d39"
      },
      "source": [
        "#Data Normalization\n",
        "if not flow_from_dir:\n",
        "  if not data_augmentation:\n",
        "    X_train = X_train.astype('float32')\n",
        "    X_test = X_test.astype('float32')\n",
        "    X_train = X_train/255.\n",
        "    X_test = X_test/255.\n",
        "\n",
        "    if subtract_mean:\n",
        "      X_train_mean = np.mean(X_train)\n",
        "      X_train -= X_train_mean\n",
        "      X_test_mean = np.mean(X_test)\n",
        "      X_test -= X_test_mean\n",
        "\n",
        "  print(y_train.shape, y_test.shape)"
      ],
      "execution_count": 8,
      "outputs": [
        {
          "output_type": "stream",
          "text": [
            "(50000, 1) (10000, 1)\n"
          ],
          "name": "stdout"
        }
      ]
    },
    {
      "cell_type": "code",
      "metadata": {
        "id": "XerWb6T3YK-x",
        "colab_type": "code",
        "outputId": "e638818d-01d9-44a7-d156-21277c037389",
        "colab": {
          "base_uri": "https://localhost:8080/",
          "height": 34
        }
      },
      "source": [
        "if not flow_from_dir:\n",
        "  y_train = np_utils.to_categorical(y_train)\n",
        "  y_test = np_utils.to_categorical(y_test)\n",
        "  print(y_train.shape, y_test.shape)"
      ],
      "execution_count": 9,
      "outputs": [
        {
          "output_type": "stream",
          "text": [
            "(50000, 10) (10000, 10)\n"
          ],
          "name": "stdout"
        }
      ]
    },
    {
      "cell_type": "code",
      "metadata": {
        "id": "PS86-ZpEZMUY",
        "colab_type": "code",
        "outputId": "ae1a217d-da9a-4a4b-8fc3-a368fd98f46f",
        "colab": {
          "base_uri": "https://localhost:8080/",
          "height": 34
        }
      },
      "source": [
        "#num_classes = y_train.shape[1]\n",
        "#input_shape=X_train.shape[1:]\n",
        "\n",
        "input_shape,num_classes"
      ],
      "execution_count": 10,
      "outputs": [
        {
          "output_type": "execute_result",
          "data": {
            "text/plain": [
              "((32, 32, 3), 10)"
            ]
          },
          "metadata": {
            "tags": []
          },
          "execution_count": 10
        }
      ]
    },
    {
      "cell_type": "code",
      "metadata": {
        "id": "hXFuLmd6bjpY",
        "colab_type": "code",
        "colab": {}
      },
      "source": [
        "#Define Alexnet Model\n",
        "def AlexnetModel(input_shape,num_classes):\n",
        "  model = Sequential()\n",
        "  model.add(Conv2D(filters=96,kernel_size=(3,3),strides=(4,4),input_shape=input_shape, activation='relu'))\n",
        "  model.add(MaxPooling2D(pool_size=(2,2),strides=(2,2)))\n",
        "  model.add(Conv2D(256,(5,5),padding='same',activation='relu'))\n",
        "  model.add(MaxPooling2D(pool_size=(2,2),strides=(2,2)))\n",
        "  model.add(Conv2D(384,(3,3),padding='same',activation='relu'))\n",
        "  model.add(Conv2D(384,(3,3),padding='same',activation='relu'))\n",
        "  model.add(Conv2D(256,(3,3),padding='same',activation='relu'))\n",
        "  model.add(MaxPooling2D(pool_size=(2,2),strides=(2,2)))\n",
        "\n",
        "  model.add(Flatten())\n",
        "  model.add(Dense(4096, activation='relu'))\n",
        "  model.add(Dropout(0.4))\n",
        "  model.add(Dense(4096, activation='relu'))\n",
        "  model.add(Dropout(0.4))\n",
        "  model.add(Dense(num_classes,activation='softmax'))\n",
        "\n",
        "  #model.compile(optimizer='adam',loss='categorical_crossentropy',metrics=['accuracy'])\n",
        "\n",
        "  #model.summary()\n",
        "  return model"
      ],
      "execution_count": 0,
      "outputs": []
    },
    {
      "cell_type": "code",
      "metadata": {
        "id": "eRNzvi-qZXvl",
        "colab_type": "code",
        "colab": {}
      },
      "source": [
        "def get_model(input_shape,num_classes):\n",
        "  # Create the model - Normal model with CNN, dropouts and MaxPooling.\n",
        "  # This model gives accuracy of 77% on the test set after 25 epochs\n",
        "\n",
        "  model = Sequential()\n",
        "\n",
        "  #model.add(Conv2D(32,(3,3),input_shape=(32,32,3),padding='same',activation='relu'))\n",
        "  model.add(Conv2D(32,(3,3),input_shape=input_shape,padding='same',activation='relu'))\n",
        "  model.add(Dropout(0.2))\n",
        "\n",
        "  model.add(Conv2D(32,(3,3),activation='relu',padding='same'))\n",
        "  model.add(MaxPooling2D(pool_size=(2,2)))\n",
        "\n",
        "  model.add(Conv2D(64,(3,3),activation='relu',padding='same'))\n",
        "  model.add(Dropout(0.2))\n",
        "\n",
        "  model.add(Conv2D(64,(3,3),activation='relu',padding='same'))\n",
        "  model.add(MaxPooling2D(pool_size=(2,2)))\n",
        "\n",
        "  model.add(Conv2D(128,(3,3),activation='relu',padding='same'))\n",
        "  model.add(Dropout(0.2))\n",
        "\n",
        "  model.add(Conv2D(128,(3,3),activation='relu',padding='same'))\n",
        "  model.add(MaxPooling2D(pool_size=(2,2)))\n",
        "\n",
        "  model.add(Flatten())\n",
        "  model.add(Dropout(0.2))\n",
        "\n",
        "  model.add(Dense(1024,activation='relu'))\n",
        "  model.add(Dropout(0.2))\n",
        "\n",
        "  model.add(Dense(512,activation='relu'))\n",
        "  model.add(Dropout(0.2))\n",
        "\n",
        "  model.add(Dense(num_classes,activation='softmax'))\n",
        "\n",
        "  return model\n",
        "\n"
      ],
      "execution_count": 0,
      "outputs": []
    },
    {
      "cell_type": "code",
      "metadata": {
        "id": "p2cGLs6n9l0L",
        "colab_type": "code",
        "colab": {}
      },
      "source": [
        "def lr_schedule(epoch):\n",
        "    \"\"\"Learning Rate Schedule\n",
        "\n",
        "    Learning rate is scheduled to be reduced after 80, 120, 160, 180 epochs.\n",
        "    Called automatically every epoch as part of callbacks during training.\n",
        "\n",
        "    # Arguments\n",
        "        epoch (int): The number of epochs\n",
        "\n",
        "    # Returns\n",
        "        lr (float32): learning rate\n",
        "    \"\"\"\n",
        "    lr = 1e-3\n",
        "    if epoch > 180:\n",
        "        lr *= 0.5e-3\n",
        "    elif epoch > 160:\n",
        "        lr *= 1e-3\n",
        "    elif epoch > 120:\n",
        "        lr *= 1e-2\n",
        "    elif epoch > 80:\n",
        "        lr *= 1e-1\n",
        "    print('Learning rate: ', lr)\n",
        "    return lr\n"
      ],
      "execution_count": 0,
      "outputs": []
    },
    {
      "cell_type": "code",
      "metadata": {
        "id": "sdnE9Sd0-NbF",
        "colab_type": "code",
        "colab": {}
      },
      "source": [
        "# Prepare callbacks for model saving and for learning rate adjustment.\n",
        "\n",
        "early_stopping = EarlyStopping(monitor='val_loss', min_delta=0.001, patience=5, verbose=0, mode='auto', baseline=None, restore_best_weights=True)\n",
        "\n",
        "checkpoint = ModelCheckpoint(filepath=filepath,\n",
        "                             monitor='val_acc',\n",
        "                             verbose=1,\n",
        "                             save_best_only=True)\n",
        "\n",
        "lr_scheduler = LearningRateScheduler(lr_schedule)\n",
        "\n",
        "lr_reducer = ReduceLROnPlateau(factor=np.sqrt(0.1),\n",
        "                               cooldown=0,\n",
        "                               patience=5,\n",
        "                               min_lr=0.5e-6)\n",
        "\n",
        "callbacks = [checkpoint, lr_reducer, lr_scheduler,early_stopping]\n"
      ],
      "execution_count": 0,
      "outputs": []
    },
    {
      "cell_type": "code",
      "metadata": {
        "id": "AbLu2lefac_h",
        "colab_type": "code",
        "outputId": "7b1e97aa-92ac-457f-e905-ad55b736cedd",
        "colab": {
          "base_uri": "https://localhost:8080/",
          "height": 972
        }
      },
      "source": [
        "#model = get_model(input_shape,num_classes)\n",
        "if model_type == 'Alexnet':\n",
        "  #input_shape = (224,224,3)\n",
        "  model = AlexnetModel(input_shape,num_classes)\n",
        "else:\n",
        "  model = get_model(input_shape,num_classes)\n",
        "\n",
        "# Compile model\n",
        "\n",
        "#optimizer = SGD(lr=lrate, momentum=0.9, decay=decay, nesterov=False)\n",
        "optimizer = Adam(lr=0.001, beta_1=0.9, beta_2=0.999, amsgrad=False)\n",
        "model.compile(loss= 'categorical_crossentropy' , optimizer=optimizer, metrics=[ 'accuracy' ])\n",
        "print(\"Model Summary of \",model_type)\n",
        "print(model.summary())\n",
        "\n"
      ],
      "execution_count": 15,
      "outputs": [
        {
          "output_type": "stream",
          "text": [
            "WARNING:tensorflow:From /usr/local/lib/python3.6/dist-packages/keras/backend/tensorflow_backend.py:66: The name tf.get_default_graph is deprecated. Please use tf.compat.v1.get_default_graph instead.\n",
            "\n",
            "WARNING:tensorflow:From /usr/local/lib/python3.6/dist-packages/keras/backend/tensorflow_backend.py:541: The name tf.placeholder is deprecated. Please use tf.compat.v1.placeholder instead.\n",
            "\n",
            "WARNING:tensorflow:From /usr/local/lib/python3.6/dist-packages/keras/backend/tensorflow_backend.py:4432: The name tf.random_uniform is deprecated. Please use tf.random.uniform instead.\n",
            "\n",
            "WARNING:tensorflow:From /usr/local/lib/python3.6/dist-packages/keras/backend/tensorflow_backend.py:4267: The name tf.nn.max_pool is deprecated. Please use tf.nn.max_pool2d instead.\n",
            "\n",
            "WARNING:tensorflow:From /usr/local/lib/python3.6/dist-packages/keras/backend/tensorflow_backend.py:148: The name tf.placeholder_with_default is deprecated. Please use tf.compat.v1.placeholder_with_default instead.\n",
            "\n",
            "WARNING:tensorflow:From /usr/local/lib/python3.6/dist-packages/keras/backend/tensorflow_backend.py:3733: calling dropout (from tensorflow.python.ops.nn_ops) with keep_prob is deprecated and will be removed in a future version.\n",
            "Instructions for updating:\n",
            "Please use `rate` instead of `keep_prob`. Rate should be set to `rate = 1 - keep_prob`.\n",
            "WARNING:tensorflow:From /usr/local/lib/python3.6/dist-packages/keras/optimizers.py:793: The name tf.train.Optimizer is deprecated. Please use tf.compat.v1.train.Optimizer instead.\n",
            "\n",
            "WARNING:tensorflow:From /usr/local/lib/python3.6/dist-packages/keras/backend/tensorflow_backend.py:3576: The name tf.log is deprecated. Please use tf.math.log instead.\n",
            "\n",
            "Model Summary of  Alexnet\n",
            "Model: \"sequential_1\"\n",
            "_________________________________________________________________\n",
            "Layer (type)                 Output Shape              Param #   \n",
            "=================================================================\n",
            "conv2d_1 (Conv2D)            (None, 8, 8, 96)          2688      \n",
            "_________________________________________________________________\n",
            "max_pooling2d_1 (MaxPooling2 (None, 4, 4, 96)          0         \n",
            "_________________________________________________________________\n",
            "conv2d_2 (Conv2D)            (None, 4, 4, 256)         614656    \n",
            "_________________________________________________________________\n",
            "max_pooling2d_2 (MaxPooling2 (None, 2, 2, 256)         0         \n",
            "_________________________________________________________________\n",
            "conv2d_3 (Conv2D)            (None, 2, 2, 384)         885120    \n",
            "_________________________________________________________________\n",
            "conv2d_4 (Conv2D)            (None, 2, 2, 384)         1327488   \n",
            "_________________________________________________________________\n",
            "conv2d_5 (Conv2D)            (None, 2, 2, 256)         884992    \n",
            "_________________________________________________________________\n",
            "max_pooling2d_3 (MaxPooling2 (None, 1, 1, 256)         0         \n",
            "_________________________________________________________________\n",
            "flatten_1 (Flatten)          (None, 256)               0         \n",
            "_________________________________________________________________\n",
            "dense_1 (Dense)              (None, 4096)              1052672   \n",
            "_________________________________________________________________\n",
            "dropout_1 (Dropout)          (None, 4096)              0         \n",
            "_________________________________________________________________\n",
            "dense_2 (Dense)              (None, 4096)              16781312  \n",
            "_________________________________________________________________\n",
            "dropout_2 (Dropout)          (None, 4096)              0         \n",
            "_________________________________________________________________\n",
            "dense_3 (Dense)              (None, 10)                40970     \n",
            "=================================================================\n",
            "Total params: 21,589,898\n",
            "Trainable params: 21,589,898\n",
            "Non-trainable params: 0\n",
            "_________________________________________________________________\n",
            "None\n"
          ],
          "name": "stdout"
        }
      ]
    },
    {
      "cell_type": "code",
      "metadata": {
        "id": "AIEd9V4KMYR7",
        "colab_type": "code",
        "outputId": "58a18034-df34-4209-f617-410ca42103e5",
        "colab": {
          "base_uri": "https://localhost:8080/",
          "height": 1000
        }
      },
      "source": [
        "if data_augmentation:\n",
        "\tprint('Using real-time data augmentation.')\n",
        "\t# This will do preprocessing and realtime data augmentation:\n",
        "\tdatagen = ImageDataGenerator(\n",
        "        featurewise_center=True,  # set input mean to 0 over the dataset\n",
        "        samplewise_center=False,  # set each sample mean to 0\n",
        "        featurewise_std_normalization=True,  # divide inputs by std of the dataset\n",
        "        samplewise_std_normalization=False,  # divide each input by its std\n",
        "        zca_whitening=False,  # apply ZCA whitening\n",
        "        zca_epsilon=1e-06,  # epsilon for ZCA whitening\n",
        "        rotation_range=20,  # randomly rotate images in the range (degrees, 0 to 180)\n",
        "        # randomly shift images horizontally (fraction of total width)\n",
        "        width_shift_range=0.2,\n",
        "        # randomly shift images vertically (fraction of total height)\n",
        "        height_shift_range=0.2,\n",
        "        shear_range=0.,  # set range for random shear\n",
        "        zoom_range=0.,  # set range for random zoom\n",
        "        channel_shift_range=0.,  # set range for random channel shifts\n",
        "        # set mode for filling points outside the input boundaries\n",
        "        fill_mode='nearest',\n",
        "        cval=0.,  # value used for fill_mode = \"constant\"\n",
        "        horizontal_flip=True,  # randomly flip images\n",
        "        vertical_flip=False,  # randomly flip images\n",
        "        # set rescaling factor (applied before any other transformation)\n",
        "        rescale=None,\n",
        "        # set function that will be applied on each input\n",
        "        preprocessing_function=None,\n",
        "        # image data format, either \"channels_first\" or \"channels_last\"\n",
        "        data_format=None,\n",
        "        # fraction of images reserved for validation (strictly between 0 and 1)\n",
        "        validation_split=0.0)\n",
        "\n",
        "    # Compute quantities required for feature-wise normalization\n",
        "    # (std, mean, and principal components if ZCA whitening is applied).\n",
        "\n",
        "\n",
        "if not flow_from_dir:\n",
        "\tif not data_augmentation:\n",
        "\t\tprint('Not using data augmentation.')\n",
        "\t\thistory = model.fit(X_train, y_train,\n",
        "          batch_size=batch_size,\n",
        "          epochs=epochs,\n",
        "          validation_data=(X_test, y_test),\n",
        "          shuffle=True,\n",
        "          callbacks=callbacks)\n",
        "\telse:   \n",
        "\t\tprint(\"model using data from downloaded dataset in memoory\")\n",
        "\t\tdatagen.fit(X_train)\n",
        "\t\t# Fit the model on the batches generated by datagen.flow().\n",
        "\t\thistory = model.fit_generator(datagen.flow(X_train, y_train,\n",
        "                                 batch_size=batch_size),\n",
        "                                 epochs=epochs,\n",
        "                                 validation_data=datagen.flow((X_test, y_test),batch_size=batch_size),\n",
        "                                 workers=4,\n",
        "                                 callbacks=callbacks)\n",
        "  \n",
        "\tscores = model.evaluate(X_test, y_test, verbose=1)\n",
        "\n",
        "else:\n",
        "\t# generator for reading train data from folder\n",
        "\n",
        "\tprint('Model fit using flow from directory')\n",
        "\n",
        "\n",
        "\ttrain_generator = datagen.flow_from_directory(\n",
        "      train_dir,\n",
        "      target_size = (224, 224),\n",
        "      color_mode = 'rgb',\n",
        "      batch_size = batch_size,\n",
        "      class_mode = 'categorical',\n",
        "      shuffle=False,\n",
        "      seed=42\n",
        "      )\n",
        "\t#\n",
        "\t# generator for reading validation data from folder\n",
        "\n",
        "\tvalidation_generator = datagen.flow_from_directory(\n",
        "      validate_dir,\n",
        "      target_size = (224, 224),\n",
        "      color_mode = 'rgb',\n",
        "      batch_size = batch_size,\n",
        "      class_mode = 'categorical',\n",
        "      shuffle=False,\n",
        "      seed=42)\n",
        "  \n",
        "\tSTEP_SIZE_TRAIN=train_generator.n//train_generator.batch_size\n",
        "\tSTEP_SIZE_VALID=validation_generator.n//validation_generator.batch_size\n",
        "  \n",
        "\thistory = model.fit_generator(generator=train_generator,\n",
        "                steps_per_epoch=STEP_SIZE_TRAIN,\n",
        "                validation_data=validation_generator,\n",
        "                validation_steps=STEP_SIZE_VALID,\n",
        "                epochs=10,\n",
        "                callbacks=callbacks\n",
        "                )\n",
        "  \n",
        "\tscores = model.evaluate_generator(generator=validation_generator,\n",
        "                           steps=STEP_SIZE_VALID, verbose=1)\n",
        "\n",
        "\t#Predict the output\n",
        "\t''' Use when to Predict the output\n",
        "\tSTEP_SIZE_TEST=test_generator.n//test_generator.batch_size\n",
        "\ttest_generator.reset()\n",
        "\tpred=model.predict_generator(test_generator,\n",
        "                               steps=STEP_SIZE_TEST,\n",
        "                               verbose=1)\n",
        "\n",
        "\t'''\n",
        "# Save model and weights\n",
        "\n",
        "\n",
        "\n",
        "# Score trained model.\n",
        "\n",
        "print('Test loss:', scores[0])\n",
        "print('Test accuracy:', scores[1])"
      ],
      "execution_count": 17,
      "outputs": [
        {
          "output_type": "stream",
          "text": [
            "Using real-time data augmentation.\n",
            "model using data from downloaded dataset in memoory\n",
            "WARNING:tensorflow:From /usr/local/lib/python3.6/dist-packages/tensorflow_core/python/ops/math_grad.py:1424: where (from tensorflow.python.ops.array_ops) is deprecated and will be removed in a future version.\n",
            "Instructions for updating:\n",
            "Use tf.where in 2.0, which has the same broadcast rule as np.where\n",
            "WARNING:tensorflow:From /usr/local/lib/python3.6/dist-packages/keras/backend/tensorflow_backend.py:1033: The name tf.assign_add is deprecated. Please use tf.compat.v1.assign_add instead.\n",
            "\n",
            "WARNING:tensorflow:From /usr/local/lib/python3.6/dist-packages/keras/backend/tensorflow_backend.py:1020: The name tf.assign is deprecated. Please use tf.compat.v1.assign instead.\n",
            "\n",
            "WARNING:tensorflow:From /usr/local/lib/python3.6/dist-packages/keras/backend/tensorflow_backend.py:3005: The name tf.Session is deprecated. Please use tf.compat.v1.Session instead.\n",
            "\n",
            "Epoch 1/25\n",
            "WARNING:tensorflow:From /usr/local/lib/python3.6/dist-packages/keras/backend/tensorflow_backend.py:190: The name tf.get_default_session is deprecated. Please use tf.compat.v1.get_default_session instead.\n",
            "\n",
            "WARNING:tensorflow:From /usr/local/lib/python3.6/dist-packages/keras/backend/tensorflow_backend.py:197: The name tf.ConfigProto is deprecated. Please use tf.compat.v1.ConfigProto instead.\n",
            "\n",
            "WARNING:tensorflow:From /usr/local/lib/python3.6/dist-packages/keras/backend/tensorflow_backend.py:207: The name tf.global_variables is deprecated. Please use tf.compat.v1.global_variables instead.\n",
            "\n",
            "WARNING:tensorflow:From /usr/local/lib/python3.6/dist-packages/keras/backend/tensorflow_backend.py:216: The name tf.is_variable_initialized is deprecated. Please use tf.compat.v1.is_variable_initialized instead.\n",
            "\n",
            "WARNING:tensorflow:From /usr/local/lib/python3.6/dist-packages/keras/backend/tensorflow_backend.py:223: The name tf.variables_initializer is deprecated. Please use tf.compat.v1.variables_initializer instead.\n",
            "\n",
            "Learning rate:  0.001\n",
            "1563/1563 [==============================] - 43s 27ms/step - loss: 1.9232 - acc: 0.2341 - val_loss: 1.7385 - val_acc: 0.3150\n",
            "\n",
            "Epoch 00001: val_acc improved from -inf to 0.31500, saving model to /content/saved_models/cifar10_Alexnet_model.001.h5\n",
            "Epoch 2/25\n",
            "Learning rate:  0.001\n",
            "1563/1563 [==============================] - 36s 23ms/step - loss: 1.6967 - acc: 0.3445 - val_loss: 1.6254 - val_acc: 0.3954\n",
            "\n",
            "Epoch 00002: val_acc improved from 0.31500 to 0.39540, saving model to /content/saved_models/cifar10_Alexnet_model.002.h5\n",
            "Epoch 3/25\n",
            "Learning rate:  0.001\n",
            "1563/1563 [==============================] - 35s 22ms/step - loss: 1.5809 - acc: 0.4172 - val_loss: 1.5175 - val_acc: 0.4419\n",
            "\n",
            "Epoch 00003: val_acc improved from 0.39540 to 0.44190, saving model to /content/saved_models/cifar10_Alexnet_model.003.h5\n",
            "Epoch 4/25\n",
            "Learning rate:  0.001\n",
            "1563/1563 [==============================] - 35s 22ms/step - loss: 1.5134 - acc: 0.4498 - val_loss: 1.4829 - val_acc: 0.4512\n",
            "\n",
            "Epoch 00004: val_acc improved from 0.44190 to 0.45120, saving model to /content/saved_models/cifar10_Alexnet_model.004.h5\n",
            "Epoch 5/25\n",
            "Learning rate:  0.001\n",
            "1563/1563 [==============================] - 35s 22ms/step - loss: 1.4614 - acc: 0.4726 - val_loss: 1.4205 - val_acc: 0.4824\n",
            "\n",
            "Epoch 00005: val_acc improved from 0.45120 to 0.48240, saving model to /content/saved_models/cifar10_Alexnet_model.005.h5\n",
            "Epoch 6/25\n",
            "Learning rate:  0.001\n",
            "1563/1563 [==============================] - 35s 22ms/step - loss: 1.4288 - acc: 0.4861 - val_loss: 1.4115 - val_acc: 0.4947\n",
            "\n",
            "Epoch 00006: val_acc improved from 0.48240 to 0.49470, saving model to /content/saved_models/cifar10_Alexnet_model.006.h5\n",
            "Epoch 7/25\n",
            "Learning rate:  0.001\n",
            "1563/1563 [==============================] - 35s 22ms/step - loss: 1.3980 - acc: 0.4978 - val_loss: 1.3864 - val_acc: 0.4967\n",
            "\n",
            "Epoch 00007: val_acc improved from 0.49470 to 0.49670, saving model to /content/saved_models/cifar10_Alexnet_model.007.h5\n",
            "Epoch 8/25\n",
            "Learning rate:  0.001\n",
            "1563/1563 [==============================] - 35s 22ms/step - loss: 1.3752 - acc: 0.5095 - val_loss: 1.3971 - val_acc: 0.4990\n",
            "\n",
            "Epoch 00008: val_acc improved from 0.49670 to 0.49900, saving model to /content/saved_models/cifar10_Alexnet_model.008.h5\n",
            "Epoch 9/25\n",
            "Learning rate:  0.001\n",
            "1563/1563 [==============================] - 35s 22ms/step - loss: 1.3646 - acc: 0.5119 - val_loss: 1.3314 - val_acc: 0.5177\n",
            "\n",
            "Epoch 00009: val_acc improved from 0.49900 to 0.51770, saving model to /content/saved_models/cifar10_Alexnet_model.009.h5\n",
            "Epoch 10/25\n",
            "Learning rate:  0.001\n",
            "1563/1563 [==============================] - 35s 23ms/step - loss: 1.3438 - acc: 0.5203 - val_loss: 1.3243 - val_acc: 0.5259\n",
            "\n",
            "Epoch 00010: val_acc improved from 0.51770 to 0.52590, saving model to /content/saved_models/cifar10_Alexnet_model.010.h5\n",
            "Epoch 11/25\n",
            "Learning rate:  0.001\n",
            "1563/1563 [==============================] - 36s 23ms/step - loss: 1.3347 - acc: 0.5248 - val_loss: 1.3071 - val_acc: 0.5345\n",
            "\n",
            "Epoch 00011: val_acc improved from 0.52590 to 0.53450, saving model to /content/saved_models/cifar10_Alexnet_model.011.h5\n",
            "Epoch 12/25\n",
            "Learning rate:  0.001\n",
            "1563/1563 [==============================] - 35s 22ms/step - loss: 1.3257 - acc: 0.5291 - val_loss: 1.2970 - val_acc: 0.5357\n",
            "\n",
            "Epoch 00012: val_acc improved from 0.53450 to 0.53570, saving model to /content/saved_models/cifar10_Alexnet_model.012.h5\n",
            "Epoch 13/25\n",
            "Learning rate:  0.001\n",
            "1563/1563 [==============================] - 35s 23ms/step - loss: 1.3148 - acc: 0.5349 - val_loss: 1.2879 - val_acc: 0.5405\n",
            "\n",
            "Epoch 00013: val_acc improved from 0.53570 to 0.54050, saving model to /content/saved_models/cifar10_Alexnet_model.013.h5\n",
            "Epoch 14/25\n",
            "Learning rate:  0.001\n",
            "1563/1563 [==============================] - 35s 23ms/step - loss: 1.3086 - acc: 0.5336 - val_loss: 1.2900 - val_acc: 0.5338\n",
            "\n",
            "Epoch 00014: val_acc did not improve from 0.54050\n",
            "Epoch 15/25\n",
            "Learning rate:  0.001\n",
            "1563/1563 [==============================] - 35s 23ms/step - loss: 1.2954 - acc: 0.5390 - val_loss: 1.2864 - val_acc: 0.5401\n",
            "\n",
            "Epoch 00015: val_acc did not improve from 0.54050\n",
            "Epoch 16/25\n",
            "Learning rate:  0.001\n",
            "1563/1563 [==============================] - 35s 23ms/step - loss: 1.2935 - acc: 0.5412 - val_loss: 1.3087 - val_acc: 0.5377\n",
            "\n",
            "Epoch 00016: val_acc did not improve from 0.54050\n",
            "Epoch 17/25\n",
            "Learning rate:  0.001\n",
            "1563/1563 [==============================] - 35s 23ms/step - loss: 1.2844 - acc: 0.5475 - val_loss: 1.2555 - val_acc: 0.5554\n",
            "\n",
            "Epoch 00017: val_acc improved from 0.54050 to 0.55540, saving model to /content/saved_models/cifar10_Alexnet_model.017.h5\n",
            "Epoch 18/25\n",
            "Learning rate:  0.001\n",
            "1563/1563 [==============================] - 35s 23ms/step - loss: 1.2733 - acc: 0.5510 - val_loss: 1.2510 - val_acc: 0.5557\n",
            "\n",
            "Epoch 00018: val_acc improved from 0.55540 to 0.55570, saving model to /content/saved_models/cifar10_Alexnet_model.018.h5\n",
            "Epoch 19/25\n",
            "Learning rate:  0.001\n",
            "1563/1563 [==============================] - 35s 23ms/step - loss: 1.2709 - acc: 0.5504 - val_loss: 1.2733 - val_acc: 0.5479\n",
            "\n",
            "Epoch 00019: val_acc did not improve from 0.55570\n",
            "Epoch 20/25\n",
            "Learning rate:  0.001\n",
            "1563/1563 [==============================] - 36s 23ms/step - loss: 1.2584 - acc: 0.5561 - val_loss: 1.2760 - val_acc: 0.5458\n",
            "\n",
            "Epoch 00020: val_acc did not improve from 0.55570\n",
            "Epoch 21/25\n",
            "Learning rate:  0.001\n",
            "1563/1563 [==============================] - 35s 22ms/step - loss: 1.2604 - acc: 0.5557 - val_loss: 1.2461 - val_acc: 0.5533\n",
            "\n",
            "Epoch 00021: val_acc did not improve from 0.55570\n",
            "Epoch 22/25\n",
            "Learning rate:  0.001\n",
            "1563/1563 [==============================] - 35s 22ms/step - loss: 1.2483 - acc: 0.5611 - val_loss: 1.2210 - val_acc: 0.5641\n",
            "\n",
            "Epoch 00022: val_acc improved from 0.55570 to 0.56410, saving model to /content/saved_models/cifar10_Alexnet_model.022.h5\n",
            "Epoch 23/25\n",
            "Learning rate:  0.001\n",
            "1563/1563 [==============================] - 35s 23ms/step - loss: 1.2502 - acc: 0.5591 - val_loss: 1.2775 - val_acc: 0.5486\n",
            "\n",
            "Epoch 00023: val_acc did not improve from 0.56410\n",
            "Epoch 24/25\n",
            "Learning rate:  0.001\n",
            "1563/1563 [==============================] - 35s 22ms/step - loss: 1.2446 - acc: 0.5605 - val_loss: 1.2226 - val_acc: 0.5598\n",
            "\n",
            "Epoch 00024: val_acc did not improve from 0.56410\n",
            "Epoch 25/25\n",
            "Learning rate:  0.001\n",
            "1563/1563 [==============================] - 35s 23ms/step - loss: 1.2336 - acc: 0.5667 - val_loss: 1.2210 - val_acc: 0.5670\n",
            "\n",
            "Epoch 00025: val_acc improved from 0.56410 to 0.56700, saving model to /content/saved_models/cifar10_Alexnet_model.025.h5\n",
            "10000/10000 [==============================] - 1s 100us/step\n",
            "Test loss: 12.261363667297363\n",
            "Test accuracy: 0.2066\n"
          ],
          "name": "stdout"
        }
      ]
    },
    {
      "cell_type": "code",
      "metadata": {
        "id": "T95kj0_iP54_",
        "colab_type": "code",
        "outputId": "4fa00520-075c-464a-99f6-ee5b16f1d061",
        "colab": {
          "base_uri": "https://localhost:8080/",
          "height": 590
        }
      },
      "source": [
        "# list all data in history\n",
        "print(history.history.keys())\n",
        "# summarize history for accuracy\n",
        "plt.plot(history.history['acc'])\n",
        "plt.plot(history.history['val_acc'])\n",
        "plt.title('model accuracy')\n",
        "plt.ylabel('accuracy')\n",
        "plt.xlabel('epoch')\n",
        "plt.legend(['train', 'test'], loc='upper left')\n",
        "plt.show()\n",
        "# summarize history for loss\n",
        "plt.plot(history.history['loss'])\n",
        "plt.plot(history.history['val_loss'])\n",
        "plt.title('model loss')\n",
        "plt.ylabel('loss')\n",
        "plt.xlabel('epoch')\n",
        "plt.legend(['train', 'test'], loc='upper left')\n",
        "plt.show()"
      ],
      "execution_count": 18,
      "outputs": [
        {
          "output_type": "stream",
          "text": [
            "dict_keys(['val_loss', 'val_acc', 'loss', 'acc', 'lr'])\n"
          ],
          "name": "stdout"
        },
        {
          "output_type": "display_data",
          "data": {
            "image/png": "[encoded data removed]",
            "text/plain": [
              "<Figure size 432x288 with 1 Axes>"
            ]
          },
          "metadata": {
            "tags": []
          }
        },
        {
          "output_type": "display_data",
          "data": {
            "image/png": "[encoded data removed]",
            "text/plain": [
              "<Figure size 432x288 with 1 Axes>"
            ]
          },
          "metadata": {
            "tags": []
          }
        }
      ]
    }
  ]
}